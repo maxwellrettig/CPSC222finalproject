{
 "cells": [
  {
   "cell_type": "markdown",
   "metadata": {},
   "source": [
    "Max Rettig  \n",
    "CPSC 222  \n",
    "Spring 2022\n",
    "\n",
    "### Quantified Self Project: Spotify Data\n",
    "\n",
    "##### Introduction:  \n",
    "My project is focusing on Spotify data from 3/3/21-4/2/22. The dataset I am using for this project is the dataset Spotify sent me, which includes the time listened to per song, the artist of the song, the date listened to, and the song name. I chose to do Spotify because I am really interested in my listening habits and I thought this was a topic that I could handle. I also really like music, and my musical taste has changed quite significantly in the past year or so. I was hoping to observe this change through these statistics I computed. The main file I am working from is the json that was sent to me from Spotify. Certain data is kept by Spotify and if you request it, they will send you it, so that is how I acquired the data set. There are 5238 instances in my data set. I also have a hypothesis tests from my dataset- Is the average song length more than two minutes?  \n",
    "\n",
    "The attributes in my data set are song length, song name, artist, and the date played. The classification set I am implementing is whether or not the song is over 3 minutes. I am the person most interested in my results. However, if I were to share this project with other people, I could potentially see them being interested in the different discoveries I have made and maybe they would want to do this project with their own data."
   ]
  },
  {
   "cell_type": "markdown",
   "metadata": {},
   "source": [
    "##### Data Analysis: "
   ]
  },
  {
   "cell_type": "code",
   "execution_count": 9,
   "metadata": {},
   "outputs": [],
   "source": [
    "import pandas as pd\n",
    "import numpy as np\n",
    "import utils\n",
    "# loading the json into a pandas dataframe\n",
    "stats_df = pd.read_json(\"spotify_hist.json\")\n",
    "# deleting songs with 0ms listened to\n",
    "stats_df = stats_df.replace(0, np.nan).dropna(axis=0, how='any', subset=[\"msPlayed\"]).fillna(0)\n",
    "stats_df.to_csv(\"cleaned_spotify.csv\")"
   ]
  },
  {
   "cell_type": "markdown",
   "metadata": {},
   "source": [
    "I merged my Spotify data and classifier. I did this by first creating the classifier data by looping through the time each song was listened to. Then, I checked if the song was greater than 3 minutes. If it was, I added 1 to the list, and if it wasnt, I added 0 to the list. Then I added this list as a column to my spotify data set."
   ]
  },
  {
   "cell_type": "code",
   "execution_count": 10,
   "metadata": {},
   "outputs": [
    {
     "name": "stdout",
     "output_type": "stream",
     "text": [
      "               endTime        artistName  \\\n",
      "0     2021-03-30 05:12           Sublime   \n",
      "1     2021-04-05 22:55      Rae Sremmurd   \n",
      "2     2021-04-05 22:58       Kevin Gates   \n",
      "3     2021-04-05 23:02  Spillage Village   \n",
      "4     2021-04-05 23:04     Isaiah Rashad   \n",
      "...                ...               ...   \n",
      "5233  2022-04-02 07:16         Pop Smoke   \n",
      "5234  2022-04-02 07:16       Don Toliver   \n",
      "5235  2022-04-02 07:19     Playboi Carti   \n",
      "5236  2022-04-02 07:22         iann dior   \n",
      "5237  2022-04-02 07:25         iann dior   \n",
      "\n",
      "                                              trackName  msPlayed  over 3min  \n",
      "0                                        Caress Me Down    7828.0          0  \n",
      "1               Powerglide (feat. Juicy J) - From SR3MM  258600.0          1  \n",
      "2                                                Me Too  185759.0          1  \n",
      "3     End Of Daze (with EARTHGANG & JID feat. Jurdan...  253794.0          1  \n",
      "4                                                 Nelly   82616.0          0  \n",
      "...                                                 ...       ...        ...  \n",
      "5233              The Woo (feat. 50 Cent & Roddy Ricch)  201600.0          1  \n",
      "5234                                            No Idea    4952.0          0  \n",
      "5235                                  FlatBed Freestyle  193973.0          1  \n",
      "5236                                          gone girl  136568.0          0  \n",
      "5237                                            Strings  194000.0          1  \n",
      "\n",
      "[5131 rows x 5 columns]\n"
     ]
    }
   ],
   "source": [
    "# adding a classifier to a list\n",
    "classifier_list = []\n",
    "for item in stats_df[\"msPlayed\"]:\n",
    "    if (item / 60000.0) > 3:\n",
    "        classifier_list.append(1)\n",
    "    else:\n",
    "        classifier_list.append(0)\n",
    "\n",
    "# adding this to the spotify dataframe\n",
    "stats_df[\"over 3min\"] = classifier_list\n",
    "print(stats_df)"
   ]
  },
  {
   "cell_type": "markdown",
   "metadata": {},
   "source": [
    "I caculated several statistics for my dataset. They are longest song, total minutes listened to, average time per song, median time per song, standard deviaton of time listened, song and artist mode, and average time listened to per artist."
   ]
  },
  {
   "cell_type": "code",
   "execution_count": 11,
   "metadata": {},
   "outputs": [
    {
     "name": "stdout",
     "output_type": "stream",
     "text": [
      "Sum: 9826.95 minutes\n",
      "Average song length: 1.92 minutes\n"
     ]
    }
   ],
   "source": [
    "# total time listened to based on artist name\n",
    "artist_df = stats_df.groupby(\"artistName\").sum()\n",
    "sum = 0\n",
    "for item in artist_df[\"msPlayed\"]:\n",
    "    sum += item\n",
    "sum /= 60000.0\n",
    "print(\"Sum:\", round(sum, 2), \"minutes\")\n",
    "print(\"Average song length:\", round((sum / len(stats_df)), 2), \"minutes\")"
   ]
  },
  {
   "cell_type": "markdown",
   "metadata": {},
   "source": [
    "As you can see, the average song length just under 2 minutes. This could be the case because I generally listen to shorter songs, or that I am skipping to the next song before most songs are over. Also, the time I listened to music is a little over 9800 minutes. "
   ]
  },
  {
   "cell_type": "code",
   "execution_count": 12,
   "metadata": {},
   "outputs": [
    {
     "name": "stdout",
     "output_type": "stream",
     "text": [
      "Longest song: 8.92 minutes\n"
     ]
    }
   ],
   "source": [
    "utils.longest_song(stats_df)"
   ]
  },
  {
   "cell_type": "code",
   "execution_count": 13,
   "metadata": {},
   "outputs": [
    {
     "name": "stdout",
     "output_type": "stream",
     "text": [
      "Median time per song: 2.19 minutes\n"
     ]
    }
   ],
   "source": [
    "# computing the median amount of time listened to\n",
    "time_df = stats_df[\"msPlayed\"]\n",
    "median = round((time_df.median() / 60000.0), 2)\n",
    "print(\"Median time per song:\", median, \"minutes\")"
   ]
  },
  {
   "cell_type": "code",
   "execution_count": 14,
   "metadata": {},
   "outputs": [
    {
     "name": "stdout",
     "output_type": "stream",
     "text": [
      "Stdev time listened to: 1.64 minutes\n"
     ]
    }
   ],
   "source": [
    "# computing the standard deviation of time listened to\n",
    "stdev_time = round((time_df.std() / 60000.0), 2)\n",
    "print(\"Stdev time listened to:\", stdev_time, \"minutes\")"
   ]
  },
  {
   "cell_type": "code",
   "execution_count": 15,
   "metadata": {},
   "outputs": [
    {
     "name": "stdout",
     "output_type": "stream",
     "text": [
      "Song mode: 0    Sativa\n",
      "Name: trackName, dtype: object\n"
     ]
    }
   ],
   "source": [
    "# computing the most listened to song\n",
    "# as you can see, my most listened to song was \"Sativa\"\n",
    "song_df = stats_df[\"trackName\"]\n",
    "song_mode = song_df.mode()\n",
    "print(\"Song mode:\", song_mode)"
   ]
  },
  {
   "cell_type": "code",
   "execution_count": 16,
   "metadata": {},
   "outputs": [
    {
     "name": "stdout",
     "output_type": "stream",
     "text": [
      "Average time per artist 15.75\n"
     ]
    }
   ],
   "source": [
    "# average time listened to per artist\n",
    "print(\"Average time per artist\", round((sum / len(artist_df)), 2))"
   ]
  },
  {
   "cell_type": "markdown",
   "metadata": {},
   "source": [
    "The average time listened to per artist is only 15 minutes. This shows that I really jump around a lot and try new artists frequently."
   ]
  },
  {
   "cell_type": "markdown",
   "metadata": {},
   "source": [
    "Hypothesis test- Is the average song length more than than 2 minutes?  "
   ]
  },
  {
   "cell_type": "code",
   "execution_count": 17,
   "metadata": {},
   "outputs": [
    {
     "name": "stdout",
     "output_type": "stream",
     "text": [
      "Reject H0\n"
     ]
    }
   ],
   "source": [
    "utils.hypothesis_test(stats_df)"
   ]
  },
  {
   "cell_type": "markdown",
   "metadata": {},
   "source": [
    "We reject the null hypothesis, so this agrees with my above calculation."
   ]
  },
  {
   "cell_type": "code",
   "execution_count": 18,
   "metadata": {},
   "outputs": [
    {
     "data": {
      "image/png": "[encoded data removed]",
      "text/plain": [
       "<Figure size 432x288 with 1 Axes>"
      ]
     },
     "metadata": {
      "needs_background": "light"
     },
     "output_type": "display_data"
    }
   ],
   "source": [
    "utils.histogram_chart_example(stats_df[\"msPlayed\"])"
   ]
  },
  {
   "cell_type": "markdown",
   "metadata": {},
   "source": [
    "With this plot, I wanted to show that I am skipping a lot more songs than I am acutally listening to, which I completely agree with. Also, it looks like there aren't many songs over 250000ms (just over 4 minutes), so It appears I am listening to shorter songs overall."
   ]
  },
  {
   "cell_type": "markdown",
   "metadata": {},
   "source": [
    "##### Conclusion:  \n",
    "I used Spotify data to calculate statistics and be able to form conclusions about my data. However, I wish I had more data as there were many days where I didn't listen to music. If I did, I would have had more accurate statistics from my dataset. I am not really sure what impact this could have, but if anyone looked at my project, they could determine that everyone has a right to their own personal data. I could not figure out how to do a classification because I didn't know how to make numeric values out of my dataset."
   ]
  },
  {
   "cell_type": "markdown",
   "metadata": {},
   "source": [
    "Links: https://codereview.stackexchange.com/questions/185389/dropping-rows-from-a-pandas-dataframe-where-some-of-the-columns-have-value-0"
   ]
  }
 ],
 "metadata": {
  "interpreter": {
   "hash": "ce6cd953595cff7fa244574d2ae8fc9510d41e21c8b29b56194e1a5e6fe134f1"
  },
  "kernelspec": {
   "display_name": "Python 3.9.7 ('base')",
   "language": "python",
   "name": "python3"
  },
  "language_info": {
   "codemirror_mode": {
    "name": "ipython",
    "version": 3
   },
   "file_extension": ".py",
   "mimetype": "text/x-python",
   "name": "python",
   "nbconvert_exporter": "python",
   "pygments_lexer": "ipython3",
   "version": "3.9.7"
  },
  "orig_nbformat": 4
 },
 "nbformat": 4,
 "nbformat_minor": 2
}
